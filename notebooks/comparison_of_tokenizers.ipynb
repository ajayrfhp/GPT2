{
 "cells": [
  {
   "cell_type": "markdown",
   "metadata": {},
   "source": [
    "## Comparison of tokenizers"
   ]
  },
  {
   "cell_type": "markdown",
   "metadata": {},
   "source": [
    "- Subword tokenization breaks words into smaller units to better handle OOV words and use repetable chunks in vocabulary. \n",
    "\n",
    "#### Word piece\n",
    "- Split words into longest possible subword from pretrained vocab. \n",
    "- Pairs are created to maximize likelihood of training data during vocab creation \n",
    "- Needs pretokenization, splitting into white spaces\n",
    "- Replaces unknown words with UNK\n",
    "\n",
    "#### BPE\n",
    "- Merges most frequent characters iteratively to build subwords\n",
    "- Focuses on frequency based merging \n",
    "- Needs pretokenization, splitting into white spaces\n",
    "- Splits into characters if unknown\n",
    "\n",
    "#### Sentence piece\n",
    "- Treats text as raw byte stream. Ideal for scripts without spaces, language agnostic. \n",
    "- Does not need pretokenization, treats space as a character\n",
    "- Determines what tokenization schema maximizes likelihood of dataset occuring using EM \n",
    "    - Repeat till convergence\n",
    "        - E step - Estimate probability of token occurences\n",
    "        - M step - Find best tokenization scheme for each sentence by maximizing likelihood of occurence, viterbi decoding. \n",
    "- Rarely uses UNK. \n"
   ]
  },
  {
   "cell_type": "code",
   "execution_count": 1,
   "metadata": {},
   "outputs": [
    {
     "data": {
      "text/plain": [
       "'4.51.0'"
      ]
     },
     "execution_count": 1,
     "metadata": {},
     "output_type": "execute_result"
    }
   ],
   "source": [
    "import transformers\n",
    "transformers.__version__"
   ]
  },
  {
   "cell_type": "markdown",
   "metadata": {},
   "source": [
    "#### Word piece"
   ]
  },
  {
   "cell_type": "code",
   "execution_count": 8,
   "metadata": {},
   "outputs": [
    {
     "name": "stdout",
     "output_type": "stream",
     "text": [
      "['hello', ',', 'i', 'think', 'aliens', 'are', 'real', ',', 'the', 'government', 'is', 'hiding', 'them', '.', '!', '!', 'i', 'want', 'to', 'know', 'the', 'truth', '.']\n",
      "['34', '+', '1', '=', '35', '.', '128', '*', '245', '=', '313', '##60', '.', '2', '^', '10', '=', '102', '##4', '.']\n",
      "['\"', 'def', 'add', '(', 'a', ',', 'b', ')', ':', 'return', 'a', '+', 'b']\n"
     ]
    }
   ],
   "source": [
    "from transformers import BertTokenizer\n",
    "\n",
    "bert_tokenizer = BertTokenizer.from_pretrained('google-bert/bert-base-uncased')\n",
    "\n",
    "example_sentence = \"Hello, I think aliens are real, the government is hiding them. !! I want to know the truth.\"\n",
    "math_example_sentence = \"34+1=35. 128*245=31360. 2^10=1024.\"\n",
    "python_example_sentence = \"\"\"\n",
    "\"\n",
    "    def add(a, b): \n",
    "        return a + b\n",
    "\"\"\"\n",
    "\n",
    "print(bert_tokenizer.tokenize(example_sentence))\n",
    "print(bert_tokenizer.tokenize(math_example_sentence))\n",
    "print(bert_tokenizer.tokenize(python_example_sentence))"
   ]
  },
  {
   "cell_type": "markdown",
   "metadata": {},
   "source": [
    "#### BPE"
   ]
  },
  {
   "cell_type": "markdown",
   "metadata": {},
   "source": [
    "- GPT 2 tokenizer treats each space seperately for python, space inefficient. "
   ]
  },
  {
   "cell_type": "code",
   "execution_count": 9,
   "metadata": {},
   "outputs": [
    {
     "name": "stdout",
     "output_type": "stream",
     "text": [
      "['Hello', ',', 'ĠI', 'Ġthink', 'Ġaliens', 'Ġare', 'Ġreal', ',', 'Ġthe', 'Ġgovernment', 'Ġis', 'Ġhiding', 'Ġthem', '.', 'Ġ!!', 'ĠI', 'Ġwant', 'Ġto', 'Ġknow', 'Ġthe', 'Ġtruth', '.']\n",
      "['34', '+', '1', '=', '35', '.', 'Ġ128', '*', '245', '=', '313', '60', '.', 'Ġ2', '^', '10', '=', '1024', '.']\n",
      "['Ċ', '\"', 'Ċ', 'Ġ', 'Ġ', 'Ġ', 'Ġdef', 'Ġadd', '(', 'a', ',', 'Ġb', '):', 'Ġ', 'Ċ', 'Ġ', 'Ġ', 'Ġ', 'Ġ', 'Ġ', 'Ġ', 'Ġ', 'Ġreturn', 'Ġa', 'Ġ+', 'Ġb', 'Ċ']\n"
     ]
    }
   ],
   "source": [
    "from transformers import GPT2Tokenizer\n",
    "\n",
    "bpe_tokenizer = GPT2Tokenizer.from_pretrained('gpt2')\n",
    "print(bpe_tokenizer.tokenize(example_sentence))\n",
    "print(bpe_tokenizer.tokenize(math_example_sentence))\n",
    "print(bpe_tokenizer.tokenize(python_example_sentence))"
   ]
  },
  {
   "cell_type": "code",
   "execution_count": 16,
   "metadata": {},
   "outputs": [
    {
     "name": "stdout",
     "output_type": "stream",
     "text": [
      "['Hello', ',', 'ĠI', 'Ġthink', 'Ġaliens', 'Ġare', 'Ġreal', ',', 'Ġthe', 'Ġgovernment', 'Ġis', 'Ġhiding', 'Ġthem', '.', 'Ġ!!', 'ĠI', 'Ġwant', 'Ġto', 'Ġknow', 'Ġthe', 'Ġtruth', '.']\n",
      "['34', '+', '1', '=', '35', '.', 'Ġ', '128', '*', '245', '=', '313', '60', '.', 'Ġ', '2', '^', '10', '=', '10', '24', '.']\n",
      "['Ċ', '\"', 'Ċ', 'ĠĠĠ', 'Ġdef', 'Ġadd', '(', 'a', ',', 'Ġb', '):', 'ĠĊ', 'ĠĠĠĠĠĠĠ', 'Ġreturn', 'Ġa', 'Ġ+', 'Ġb', 'Ċ']\n"
     ]
    }
   ],
   "source": [
    "\n",
    "# load Xenova/gpt-4 from transformers\n",
    "gpt4_tokenizer = GPT2Tokenizer.from_pretrained('Xenova/gpt-4')\n",
    "print(gpt4_tokenizer.tokenize(example_sentence))\n",
    "print(gpt4_tokenizer.tokenize(math_example_sentence))\n",
    "print(gpt4_tokenizer.tokenize(python_example_sentence))"
   ]
  },
  {
   "cell_type": "markdown",
   "metadata": {},
   "source": [
    "#### SentencePiece\n",
    "- Treats 4 spaces as one token, space efficient\n",
    "- Consistency in parsing math tokens helps improve performance"
   ]
  },
  {
   "cell_type": "code",
   "execution_count": 10,
   "metadata": {},
   "outputs": [
    {
     "name": "stdout",
     "output_type": "stream",
     "text": [
      "['▁', 'Hello', ',', '▁I', '▁think', '▁aliens', '▁are', '▁real', ',', '▁the', '▁government', '▁is', '▁hiding', '▁them', '.', '▁', '!!', '▁I', '▁want', '▁to', '▁know', '▁the', '▁truth', '.']\n",
      "['▁34', '+', '1', '=', '35', '.', '▁128', '*', '24', '5', '=', '313', '60', '.', '▁2', '^', '10', '=', '10', '24', '.']\n",
      "['▁', '\"', '▁def', '▁add', '(', 'a', ',', '▁', 'b', ')', ':', '▁return', '▁a', '▁+', '▁', 'b']\n"
     ]
    }
   ],
   "source": [
    "from transformers import XLNetTokenizer\n",
    "\n",
    "sentence_pieces_tokenizer = XLNetTokenizer.from_pretrained('xlnet/xlnet-base-cased')\n",
    "\n",
    "print(sentence_pieces_tokenizer.tokenize(example_sentence))\n",
    "print(sentence_pieces_tokenizer.tokenize(math_example_sentence))\n",
    "print(sentence_pieces_tokenizer.tokenize(python_example_sentence))"
   ]
  },
  {
   "cell_type": "markdown",
   "metadata": {},
   "source": []
  }
 ],
 "metadata": {
  "kernelspec": {
   "display_name": "GPT2",
   "language": "python",
   "name": "python3"
  },
  "language_info": {
   "codemirror_mode": {
    "name": "ipython",
    "version": 3
   },
   "file_extension": ".py",
   "mimetype": "text/x-python",
   "name": "python",
   "nbconvert_exporter": "python",
   "pygments_lexer": "ipython3",
   "version": "3.11.0"
  }
 },
 "nbformat": 4,
 "nbformat_minor": 2
}
