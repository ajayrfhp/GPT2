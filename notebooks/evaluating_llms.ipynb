{
 "cells": [
  {
   "cell_type": "code",
   "execution_count": 1,
   "metadata": {},
   "outputs": [],
   "source": [
    "import torch\n",
    "import torch.nn as nn"
   ]
  },
  {
   "cell_type": "markdown",
   "metadata": {},
   "source": [
    "## Minimize difference between predicted and actual distribution\n",
    "- Model should output a probability distribution over C classes. Introduces uncertainity into the model. \n",
    "- Model distribution can be represented as $P(y|x_i;\\theta)$\n",
    "- True class distribution can be represented as $P*(y|x_i)$\n",
    "- KL divergence is a natural way to represent distribution of loss functions\n",
    "    - $D_{KL}(P||Q) = \\sum_i{P(i)\\log{\\frac{P(i)}{Q(i)}}}$\n",
    "    - Numerator is independent of Q\n",
    "    - Minimizing $D_{KL}(P*||P)$ is same as minimizing $-\\sum_i{P(i)\\log{{Q(i)}}} $. This is the cross entropy loss\n"
   ]
  },
  {
   "cell_type": "markdown",
   "metadata": {},
   "source": [
    "### BCE loss"
   ]
  },
  {
   "cell_type": "code",
   "execution_count": 11,
   "metadata": {},
   "outputs": [
    {
     "name": "stdout",
     "output_type": "stream",
     "text": [
      "Incorrect loss: 1.2039728164672852\n",
      "Correct loss: 0.10536053031682968\n"
     ]
    }
   ],
   "source": [
    "criterion = nn.BCELoss()\n",
    "\n",
    "incorrect_outputs = torch.tensor([0.3, 0.7])\n",
    "correct_outputs = torch.tensor([0.9, 0.1])\n",
    "targets = torch.tensor([1.0, 0.0])\n",
    "\n",
    "incorrect_loss = criterion(incorrect_outputs, targets)\n",
    "correct_loss = criterion(correct_outputs, targets)\n",
    "print(f\"Incorrect loss: {incorrect_loss.item()}\")\n",
    "print(f\"Correct loss: {correct_loss.item()}\")\n",
    "\n"
   ]
  },
  {
   "cell_type": "markdown",
   "metadata": {},
   "source": [
    "### BCE with logits\n",
    "- Combines BCELoss and sigmoid function in one function. Numerically stable"
   ]
  },
  {
   "cell_type": "code",
   "execution_count": 13,
   "metadata": {},
   "outputs": [
    {
     "name": "stdout",
     "output_type": "stream",
     "text": [
      "Incorrect loss: 50.0\n",
      "Correct loss: 9.643749466768692e-23\n"
     ]
    }
   ],
   "source": [
    "criterion = nn.BCEWithLogitsLoss()\n",
    "\n",
    "incorrect_outputs = torch.tensor([-50, 50]).to(torch.float32)\n",
    "correct_outputs = torch.tensor([50, -50]).to(torch.float32)\n",
    "targets = torch.tensor([1.0, 0.0]).to(torch.float32)\n",
    "\n",
    "incorrect_loss = criterion(incorrect_outputs, targets)\n",
    "correct_loss = criterion(correct_outputs, targets)\n",
    "\n",
    "print(f\"Incorrect loss: {incorrect_loss.item()}\")\n",
    "print(f\"Correct loss: {correct_loss.item()}\")\n"
   ]
  },
  {
   "cell_type": "markdown",
   "metadata": {},
   "source": [
    "### Cross entropy loss"
   ]
  },
  {
   "cell_type": "code",
   "execution_count": 22,
   "metadata": {},
   "outputs": [
    {
     "name": "stdout",
     "output_type": "stream",
     "text": [
      "torch.Size([2, 4])\n",
      "torch.Size([2])\n",
      "Incorrect prediction loss: 1.5649813413619995\n",
      "Correct prediction loss: 0.00013624693383462727\n"
     ]
    }
   ],
   "source": [
    "\n",
    "incorrect_prediction_logits = torch.tensor([\n",
    "    [0.25, 0.25, 0.25, 0.25],\n",
    "    [1.0, 0.0, 0.0, 0.0],\n",
    "]).to(torch.float32)\n",
    "\n",
    "correct_prediction_logits = torch.tensor([\n",
    "    [0.0, 0.0, 10.0, 0.0],\n",
    "    [0.0, 0.0, 0.0, 10.0],\n",
    "]).to(torch.float32)\n",
    "\n",
    "target = torch.tensor([2, 3])\n",
    "\n",
    "print(incorrect_prediction_logits.shape)\n",
    "print(target.shape)\n",
    "\n",
    "criterion = nn.CrossEntropyLoss()\n",
    "incorrect_loss = criterion(incorrect_prediction_logits, target)\n",
    "correct_loss = criterion(correct_prediction_logits, target)\n",
    "\n",
    "\n",
    "print(f\"Incorrect prediction loss: {incorrect_loss.item()}\")\n",
    "print(f\"Correct prediction loss: {correct_loss.item()}\")"
   ]
  },
  {
   "cell_type": "markdown",
   "metadata": {},
   "source": [
    "### log softmax + nll = cross entropy loss"
   ]
  },
  {
   "cell_type": "code",
   "execution_count": 21,
   "metadata": {},
   "outputs": [
    {
     "name": "stdout",
     "output_type": "stream",
     "text": [
      "Incorrect prediction loss: 1.5649813413619995\n",
      "Correct prediction loss: 0.00013624693383462727\n"
     ]
    }
   ],
   "source": [
    "\n",
    "incorrect_prediction_logits = torch.tensor([\n",
    "    [0.25, 0.25, 0.25, 0.25],\n",
    "    [1.0, 0.0, 0.0, 0.0],\n",
    "]).to(torch.float32)\n",
    "\n",
    "correct_prediction_logits = torch.tensor([\n",
    "    [0.0, 0.0, 10.0, 0.0],\n",
    "    [0.0, 0.0, 0.0, 10.0],\n",
    "]).to(torch.float32)\n",
    "\n",
    "\n",
    "target = torch.tensor([2, 3])\n",
    "incorrect_log_probs = torch.log_softmax(incorrect_prediction_logits, dim=1)\n",
    "correct_log_probs = torch.log_softmax(correct_prediction_logits, dim=1)\n",
    "\n",
    "criterion = nn.NLLLoss()\n",
    "incorrect_loss = criterion(incorrect_log_probs, target)\n",
    "correct_loss = criterion(correct_log_probs, target)\n",
    "\n",
    "\n",
    "print(f\"Incorrect prediction loss: {incorrect_loss.item()}\")\n",
    "print(f\"Correct prediction loss: {correct_loss.item()}\")"
   ]
  },
  {
   "cell_type": "code",
   "execution_count": null,
   "metadata": {},
   "outputs": [],
   "source": []
  }
 ],
 "metadata": {
  "kernelspec": {
   "display_name": "GPT2",
   "language": "python",
   "name": "python3"
  },
  "language_info": {
   "codemirror_mode": {
    "name": "ipython",
    "version": 3
   },
   "file_extension": ".py",
   "mimetype": "text/x-python",
   "name": "python",
   "nbconvert_exporter": "python",
   "pygments_lexer": "ipython3",
   "version": "3.11.0"
  }
 },
 "nbformat": 4,
 "nbformat_minor": 2
}
